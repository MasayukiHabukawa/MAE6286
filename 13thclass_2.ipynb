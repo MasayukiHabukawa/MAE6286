{
 "cells": [
  {
   "cell_type": "code",
   "execution_count": 1,
   "metadata": {},
   "outputs": [],
   "source": [
    "import numpy\n",
    "from matplotlib import pyplot\n",
    "%matplotlib inline"
   ]
  },
  {
   "cell_type": "code",
   "execution_count": 2,
   "metadata": {},
   "outputs": [],
   "source": [
    "pyplot.rcParams['font.family'] = 'serif'\n",
    "pyplot.rcParams['font.size'] = 16"
   ]
  },
  {
   "cell_type": "code",
   "execution_count": 3,
   "metadata": {},
   "outputs": [],
   "source": [
    "nx = 41  # number of points in the x direction\n",
    "ny = 41  # number of points in the y direction\n",
    "xmin, xmax = 0.0, 1.0  # domain limits in the x direction\n",
    "ymin, ymax = -0.5, 0.5  # domain limits in the y direction\n",
    "Lx = (xmax - xmin)  # domain length in the x direction\n",
    "Ly = (ymax - ymin)  # domain length in the y direction\n",
    "dx = Lx / (nx - 1)  # grid spacing in the x direction\n",
    "dy = Ly / (ny - 1)  # grid spacing in the y direction\n",
    "\n",
    "# Create the gridline locations.\n",
    "x = numpy.linspace(xmin, xmax, num=nx)\n",
    "y = numpy.linspace(ymin, ymax, num=ny)"
   ]
  },
  {
   "cell_type": "code",
   "execution_count": 4,
   "metadata": {},
   "outputs": [],
   "source": [
    "def poisson_source(x, y, Lx, Ly):\n",
    "    X, Y = numpy.meshgrid(x, y)\n",
    "    b = (-2.0 * numpy.pi / Lx * numpy.pi / Ly *\n",
    "         numpy.sin(numpy.pi * X / Lx) * \n",
    "        nump.cos(numpy.pi * Y / Ly))\n",
    "    return b"
   ]
  },
  {
   "cell_type": "code",
   "execution_count": 7,
   "metadata": {},
   "outputs": [],
   "source": [
    "def l2_norm(p, p_ref):\n",
    "    \"\"\"\n",
    "    Computes and returns the relative L2-norm of the difference\n",
    "    between a solution p and a reference solution p_ref.\n",
    "\n",
    "    Parameters\n",
    "    ----------\n",
    "    p : numpy.ndarray\n",
    "        The solution as an array of floats.\n",
    "    p_ref : numpy.ndarray\n",
    "        The reference solution as an array of floats.\n",
    "\n",
    "    Returns\n",
    "    -------\n",
    "    diff : float\n",
    "        The relative L2-norm of the difference.\n",
    "    \"\"\"\n",
    "    l2_diff = (numpy.sqrt(numpy.sum((p - p_ref)**2)) /\n",
    "               numpy.sqrt(numpy.sum(p_ref**2)))\n",
    "    return l2_diff"
   ]
  },
  {
   "cell_type": "code",
   "execution_count": null,
   "metadata": {},
   "outputs": [],
   "source": [
    "def poisson_2d_jacobi(p0, b, dx, dy, maxiter=20000, rtol=1e-6):\n",
    "    p = p0.copy()\n",
    "    conv = []\n",
    "    diff = rtol + 1.0\n",
    "    ite = 0\n",
    "    while diff > rtol and ite < maxiter:\n",
    "        pn = p0.copy()"
   ]
  }
 ],
 "metadata": {
  "kernelspec": {
   "display_name": "Python 3",
   "language": "python",
   "name": "python3"
  },
  "language_info": {
   "codemirror_mode": {
    "name": "ipython",
    "version": 3
   },
   "file_extension": ".py",
   "mimetype": "text/x-python",
   "name": "python",
   "nbconvert_exporter": "python",
   "pygments_lexer": "ipython3",
   "version": "3.6.2"
  }
 },
 "nbformat": 4,
 "nbformat_minor": 2
}
