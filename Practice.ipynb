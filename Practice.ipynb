{
 "cells": [
  {
   "cell_type": "code",
   "execution_count": 1,
   "metadata": {},
   "outputs": [],
   "source": [
    "import numpy\n",
    "from matplotlib import pyplot\n",
    "%matplotlib inline"
   ]
  },
  {
   "cell_type": "code",
   "execution_count": 2,
   "metadata": {},
   "outputs": [],
   "source": [
    "pyplot.rcParams['font.family']= 'serif'\n",
    "pyplot.rcParams['font.size'] = 16"
   ]
  },
  {
   "cell_type": "code",
   "execution_count": 3,
   "metadata": {},
   "outputs": [],
   "source": [
    "def rho_green_light(x, rho_light):\n",
    "    rho = numpy.zeros_like(x)\n",
    "    mask = numpy.where(x < 2.0)\n",
    "    rho[mask] = rho_light*x[mask]/2.0\n",
    "    return rho"
   ]
  },
  {
   "cell_type": "code",
   "execution_count": 4,
   "metadata": {},
   "outputs": [],
   "source": [
    "nx = 81\n",
    "L = 4.0\n",
    "dx = L/(nx-1)\n",
    "nt = 30\n",
    "u_max = 1.0\n",
    "rho_max = 10.0\n",
    "rho_light  = 10.0\n",
    "\n",
    "x = numpy.linspace(0.0, L, num = nx)\n",
    "\n",
    "rho0 = rho_green_light(x, rho_light)"
   ]
  },
  {
   "cell_type": "code",
   "execution_count": 5,
   "metadata": {},
   "outputs": [
    {
     "data": {
      "image/png": "[encoded data removed]",
      "text/plain": [
       "<Figure size 432x288 with 1 Axes>"
      ]
     },
     "metadata": {},
     "output_type": "display_data"
    }
   ],
   "source": [
    "pyplot.figure(figsize = (6.0, 4.0))\n",
    "\n",
    "pyplot.xlabel(r'$x$')\n",
    "pyplot.ylabel(r'$\\rho$')\n",
    "pyplot.grid()\n",
    "pyplot.plot(x, rho0, color='C0', linestyle='-', linewidth=2)\n",
    "pyplot.xlim(0.0, L)\n",
    "pyplot.ylim(-0.5, 11.0);              "
   ]
  },
  {
   "cell_type": "code",
   "execution_count": 6,
   "metadata": {},
   "outputs": [],
   "source": [
    "def flux(rho, u_max, rho_max):\n",
    "    F = rho*u_max*(1.0 - rho/rho_max)\n",
    "    return F "
   ]
  },
  {
   "cell_type": "code",
   "execution_count": 7,
   "metadata": {},
   "outputs": [],
   "source": [
    "def ftbs():\n",
    "    rho_hist= [rho0.copy()]\n",
    "    rho = rho0.copy()\n",
    "    for n in range(nt):\n",
    "        F = flux(rho, *args)\n",
    "        rho[1:]= rho[1:]-dt/dx*(F[1:]-F[:-1])\n",
    "        rho[0] = bc_value\n",
    "        rho_hist.append(rho.copy())\n",
    "        return rho_hist"
   ]
  },
  {
   "cell_type": "code",
   "execution_count": null,
   "metadata": {},
   "outputs": [],
   "source": []
  },
  {
   "cell_type": "code",
   "execution_count": 8,
   "metadata": {},
   "outputs": [],
   "source": [
    "import numpy\n",
    "from matplotlib import pyplot\n",
    "%matplotlib inline\n"
   ]
  },
  {
   "cell_type": "code",
   "execution_count": 9,
   "metadata": {},
   "outputs": [],
   "source": [
    "pyplot.rcParams['font.family'] = 'serif'\n",
    "pyplot. rcParams['font.size'] = 16"
   ]
  },
  {
   "cell_type": "code",
   "execution_count": 10,
   "metadata": {},
   "outputs": [],
   "source": [
    "def rho_red_light(x, rho_max):\n",
    "    rho = rho_max*numpy.ones_like(x)\n",
    "    mask = numpy.where(x < 3.0)\n",
    "    rho[mask] = 0.5*rho_max\n",
    "    return rho"
   ]
  },
  {
   "cell_type": "code",
   "execution_count": 11,
   "metadata": {},
   "outputs": [],
   "source": [
    "nx = 81\n",
    "L = 4.0\n",
    "dx = L/(nx-1)\n",
    "nt = 40\n",
    "rho_max = 10.0\n",
    "u_max = 1.0\n",
    "\n",
    "x = numpy.linspace(0.0, L, num = nx)\n",
    "\n",
    "rho0 = rho_red_light(x, rho_max)"
   ]
  },
  {
   "cell_type": "code",
   "execution_count": 12,
   "metadata": {},
   "outputs": [
    {
     "data": {
      "image/png": "[encoded data removed]",
      "text/plain": [
       "<Figure size 432x288 with 1 Axes>"
      ]
     },
     "metadata": {},
     "output_type": "display_data"
    }
   ],
   "source": [
    "fig = pyplot.figure(figsize=(6.0, 4.0))\n",
    "pyplot.xlabel(r'$x$')\n",
    "pyplot.ylabel(r'$\\rho$')\n",
    "pyplot.grid()\n",
    "line = pyplot.plot(x, rho0,\n",
    "                   color='C0', linestyle='-', linewidth=2)[0]\n",
    "pyplot.xlim(0.0, L)\n",
    "pyplot.ylim(4.0, 11.0)\n",
    "pyplot.tight_layout()"
   ]
  },
  {
   "cell_type": "code",
   "execution_count": 13,
   "metadata": {},
   "outputs": [],
   "source": [
    "def flux(rho, u_max, rho_max):\n",
    "    F = rho*u_max*(1.0-rho/rho_max)\n",
    "    return F"
   ]
  },
  {
   "cell_type": "code",
   "execution_count": 14,
   "metadata": {},
   "outputs": [],
   "source": [
    "def LF():\n",
    "    rho_hist = [rho0.copy()]\n",
    "    rho = rho0.copy()\n",
    "    for n in range(nt):\n",
    "        F = flux(rho, *args)\n",
    "        rho[1:-1] = 0.5*(rho[2:]+rho[-2:]) - dt/(dx*2.0)*(F[2:]-F[:-2])\n",
    "        rho[0] = bc_values[0]\n",
    "        rho[-1] = bc_values[-1]\n",
    "        rho_hist.append(rho.copy())\n",
    "        return rho_hist"
   ]
  },
  {
   "cell_type": "code",
   "execution_count": 15,
   "metadata": {},
   "outputs": [],
   "source": [
    "def jacobian(rho, u_max, rho_max):\n",
    "    J = u_max*(1-2.0*rho/rho_max)\n",
    "    return J"
   ]
  },
  {
   "cell_type": "code",
   "execution_count": 16,
   "metadata": {},
   "outputs": [],
   "source": [
    "def LW():\n",
    "    rho_hist = [rho0.copy()]\n",
    "    rho = rho0.copy\n",
    "    for n in range(nt):\n",
    "        F = flux(rhjo, *args)\n",
    "        J = jacobian(rho, *args)\n",
    "        "
   ]
  },
  {
   "cell_type": "code",
   "execution_count": 17,
   "metadata": {},
   "outputs": [],
   "source": [
    "def rho_ST(x, rho0_L, rho0_R):\n",
    "    rho = numpy.ones_like(x)\n",
    "    mask_1 = numpy.where(x < 0.0)\n",
    "    mask_2 = numpy.where(0.0 <= x)\n",
    "    rho[mask_1] = rho0_L\n",
    "    rho[mask_2] = rho0_R\n",
    "    return rho"
   ]
  },
  {
   "cell_type": "code",
   "execution_count": 18,
   "metadata": {},
   "outputs": [],
   "source": [
    "def u_ST(x, u0_L, u0_R):\n",
    "    u = numpy.ones_like(x)\n",
    "    mask_1 = numpy.where(x < 0.0)\n",
    "    mask_2 = numpy.where(0.0 <= x)\n",
    "    u[mask_1] = u0_L\n",
    "    u[mask_2] = u0_R\n",
    "    return u"
   ]
  },
  {
   "cell_type": "code",
   "execution_count": 19,
   "metadata": {},
   "outputs": [],
   "source": [
    "def p_ST(x, p0_L, p0_R):\n",
    "    p = numpy.ones_like(x)\n",
    "    mask_1 = numpy.where(x < 0.0)\n",
    "    mask_2 = numpy.where(0.0 <= x)\n",
    "    p[mask_1] = p0_L\n",
    "    p[mask_2] = p0_R\n",
    "    return p"
   ]
  },
  {
   "cell_type": "code",
   "execution_count": 20,
   "metadata": {},
   "outputs": [],
   "source": [
    "nx = 81\n",
    "L = 10.0\n",
    "dx = 0.25\n",
    "dt = 0.0002\n",
    "gamma = 1.4\n",
    "rho0_L = 1.0\n",
    "rho0_R = 0.125\n",
    "u0_L = 0.0\n",
    "u0_R = 0.0\n",
    "p0_L = 100000.0\n",
    "p0_R = 10000.0\n",
    "nt = 50\n",
    "\n",
    "x = numpy.linspace(-L, L, num=nx)\n",
    "\n",
    "rho0 = rho_ST(x, rho0_L, rho0_R)\n",
    "u0 = u_ST(x, u0_L, u0_R)\n",
    "p0 = p_ST(x, p0_L, p0_R)"
   ]
  },
  {
   "cell_type": "code",
   "execution_count": 21,
   "metadata": {},
   "outputs": [],
   "source": [
    "def e_EOS(p, rho, gamma):\n",
    "    e = p / ((gamma - 1) * rho)\n",
    "    return e"
   ]
  },
  {
   "cell_type": "code",
   "execution_count": 22,
   "metadata": {},
   "outputs": [],
   "source": [
    "e0 = e_EOS(p0, rho0, gamma)"
   ]
  },
  {
   "cell_type": "code",
   "execution_count": 23,
   "metadata": {},
   "outputs": [],
   "source": [
    "def u_vec(rho, e, u):\n",
    "    UV = numpy.empty([3, 81])\n",
    "    UV[0, :] = rho\n",
    "    UV[1, :] = u * rho\n",
    "    UV[2, :] = rho * (e + u**2 / 2)\n",
    "    return UV"
   ]
  },
  {
   "cell_type": "code",
   "execution_count": 24,
   "metadata": {},
   "outputs": [],
   "source": [
    "UV0 = u_vec(rho0, e0, u0)"
   ]
  },
  {
   "cell_type": "code",
   "execution_count": 25,
   "metadata": {},
   "outputs": [],
   "source": [
    "def flux(UV, gamma):\n",
    "    f = numpy.empty([3, 81])\n",
    "    f[0] = UV[1]\n",
    "    f[1] = UV[1]**2 / UV[0] + (gamma - 1) * (UV[2] - 0.5 * UV[1]**2 / UV[0])\n",
    "    f[2] = (UV[2] + (gamma - 1) * (UV[2] - 0.5 * UV[1]**2 / UV[0])) * (UV[1] / UV[0])\n",
    "    return f"
   ]
  },
  {
   "cell_type": "code",
   "execution_count": 26,
   "metadata": {},
   "outputs": [],
   "source": [
    "def RM(UV0, nt, gamma, dt, dx, bc_values):\n",
    "    UV = UV0.copy()\n",
    "    UV_new = UV.copy()\n",
    "    for n in range(nt):\n",
    "        f = flux(UV, gamma)\n",
    "        UV_new[:,1:-1] = 0.5 * (UV[:,2:] + UV[:,1:-1]) - (dt / (2*dx)) * (f[:,2:] - f[:,1:-1])\n",
    "        f = flux(UV_new, gamma)\n",
    "        UV[:,1:-1] = UV[:,1:-1] - dt / dx * (f[:,1:-1] - f[:,:-2])\n",
    "        UV[:,0] = bc_values[0]\n",
    "        UV[:,-1] = bc_values[1]\n",
    "    return UV"
   ]
  },
  {
   "cell_type": "code",
   "execution_count": 27,
   "metadata": {},
   "outputs": [],
   "source": [
    "u_new = RM(UV0, nt, gamma, dt, dx, (UV0[:, 0], UV0[:, -1]))\n",
    "vel = u_new[1] / u_new[0]\n",
    "pressure = (gamma - 1) * (u_new[2] - 0.5 * u_new[1]**2 / u_new[0])\n",
    "density = u_new[0]"
   ]
  },
  {
   "cell_type": "code",
   "execution_count": 28,
   "metadata": {},
   "outputs": [
    {
     "data": {
      "image/png": "[encoded data removed]",
      "text/plain": [
       "<Figure size 432x288 with 1 Axes>"
      ]
     },
     "metadata": {},
     "output_type": "display_data"
    }
   ],
   "source": [
    "\n",
    "\n",
    "pyplot.xlabel(r'$x$')\n",
    "pyplot.ylabel(r'$\\ Density$')\n",
    "pyplot.grid()\n",
    "line = pyplot.plot(x, density,\n",
    "                   color='C0', linestyle='-', linewidth=2)[0]\n",
    "pyplot.xlim(-L, L)\n",
    "pyplot.ylim(0.0, 1.05)\n",
    "pyplot.tight_layout()"
   ]
  },
  {
   "cell_type": "code",
   "execution_count": null,
   "metadata": {},
   "outputs": [],
   "source": []
  }
 ],
 "metadata": {
  "kernelspec": {
   "display_name": "Python 3",
   "language": "python",
   "name": "python3"
  },
  "language_info": {
   "codemirror_mode": {
    "name": "ipython",
    "version": 3
   },
   "file_extension": ".py",
   "mimetype": "text/x-python",
   "name": "python",
   "nbconvert_exporter": "python",
   "pygments_lexer": "ipython3",
   "version": "3.6.2"
  }
 },
 "nbformat": 4,
 "nbformat_minor": 2
}
