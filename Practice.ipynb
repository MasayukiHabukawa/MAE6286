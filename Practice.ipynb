{
 "cells": [
  {
   "cell_type": "code",
   "execution_count": 1,
   "metadata": {},
   "outputs": [],
   "source": [
    "import numpy\n",
    "from matplotlib import pyplot\n",
    "%matplotlib inline"
   ]
  },
  {
   "cell_type": "code",
   "execution_count": 2,
   "metadata": {},
   "outputs": [],
   "source": [
    "pyplot.rcParams['font.family']= 'serif'\n",
    "pyplot.rcParams['font.size'] = 16"
   ]
  },
  {
   "cell_type": "code",
   "execution_count": 3,
   "metadata": {},
   "outputs": [],
   "source": [
    "def rho_green_light(x, rho_light):\n",
    "    rho = numpy.zeros_like(x)\n",
    "    mask = numpy.where(x < 2.0)\n",
    "    rho[mask] = rho_light*x[mask]/2.0\n",
    "    return rho"
   ]
  },
  {
   "cell_type": "code",
   "execution_count": 4,
   "metadata": {},
   "outputs": [],
   "source": [
    "nx = 81\n",
    "L = 4.0\n",
    "dx = L/(nx-1)\n",
    "nt = 30\n",
    "u_max = 1.0\n",
    "rho_max = 10.0\n",
    "rho_light  = 10.0\n",
    "\n",
    "x = numpy.linspace(0.0, L, num = nx)\n",
    "\n",
    "rho0 = rho_green_light(x, rho_light)"
   ]
  },
  {
   "cell_type": "code",
   "execution_count": 5,
   "metadata": {},
   "outputs": [
    {
     "data": {
      "image/png": "[encoded data removed]",
      "text/plain": [
       "<Figure size 432x288 with 1 Axes>"
      ]
     },
     "metadata": {},
     "output_type": "display_data"
    }
   ],
   "source": [
    "pyplot.figure(figsize = (6.0, 4.0))\n",
    "\n",
    "pyplot.xlabel(r'$x$')\n",
    "pyplot.ylabel(r'$\\rho$')\n",
    "pyplot.grid()\n",
    "pyplot.plot(x, rho0, color='C0', linestyle='-', linewidth=2)\n",
    "pyplot.xlim(0.0, L)\n",
    "pyplot.ylim(-0.5, 11.0);              "
   ]
  },
  {
   "cell_type": "code",
   "execution_count": 6,
   "metadata": {},
   "outputs": [],
   "source": [
    "def flux(rho, u_max, rho_max):\n",
    "    F = rho*u_max*(1.0 - rho/rho_max)\n",
    "    return F "
   ]
  },
  {
   "cell_type": "code",
   "execution_count": 7,
   "metadata": {},
   "outputs": [],
   "source": [
    "def ftbs():\n",
    "    rho_hist= [rho0.copy()]\n",
    "    rho = rho0.copy()\n",
    "    for n in range(nt):\n",
    "        F = flux(rho, *args)\n",
    "        rho[1:]= rho[1:]-dt/dx*(F[1:]-F[:-1])\n",
    "        rho[0] = bc_value\n",
    "        rho_hist.append(rho.copy())\n",
    "        return rho_hist"
   ]
  },
  {
   "cell_type": "code",
   "execution_count": null,
   "metadata": {},
   "outputs": [],
   "source": []
  },
  {
   "cell_type": "code",
   "execution_count": 8,
   "metadata": {},
   "outputs": [],
   "source": [
    "import numpy\n",
    "from matplotlib import pyplot\n",
    "%matplotlib inline\n"
   ]
  },
  {
   "cell_type": "code",
   "execution_count": 9,
   "metadata": {},
   "outputs": [],
   "source": [
    "pyplot.rcParams['font.family'] = 'serif'\n",
    "pyplot. rcParams['font.size'] = 16"
   ]
  },
  {
   "cell_type": "code",
   "execution_count": 10,
   "metadata": {},
   "outputs": [],
   "source": [
    "def rho_red_light(x, rho_max):\n",
    "    rho = rho_max*numpy.ones_like(x)\n",
    "    mask = numpy.where(x < 3.0)\n",
    "    rho[mask] = 0.5*rho_max\n",
    "    return rho"
   ]
  },
  {
   "cell_type": "code",
   "execution_count": 11,
   "metadata": {},
   "outputs": [],
   "source": [
    "nx = 81\n",
    "L = 4.0\n",
    "dx = L/(nx-1)\n",
    "nt = 40\n",
    "rho_max = 10.0\n",
    "u_max = 1.0\n",
    "\n",
    "x = numpy.linspace(0.0, L, num = nx)\n",
    "\n",
    "rho0 = rho_red_light(x, rho_max)"
   ]
  },
  {
   "cell_type": "code",
   "execution_count": 12,
   "metadata": {},
   "outputs": [
    {
     "data": {
      "image/png": "[encoded data removed]",
      "text/plain": [
       "<Figure size 432x288 with 1 Axes>"
      ]
     },
     "metadata": {},
     "output_type": "display_data"
    }
   ],
   "source": [
    "fig = pyplot.figure(figsize=(6.0, 4.0))\n",
    "pyplot.xlabel(r'$x$')\n",
    "pyplot.ylabel(r'$\\rho$')\n",
    "pyplot.grid()\n",
    "line = pyplot.plot(x, rho0,\n",
    "                   color='C0', linestyle='-', linewidth=2)[0]\n",
    "pyplot.xlim(0.0, L)\n",
    "pyplot.ylim(4.0, 11.0)\n",
    "pyplot.tight_layout()"
   ]
  },
  {
   "cell_type": "code",
   "execution_count": 13,
   "metadata": {},
   "outputs": [],
   "source": [
    "def flux(rho, u_max, rho_max):\n",
    "    F = rho*u_max*(1.0-rho/rho_max)\n",
    "    return F"
   ]
  },
  {
   "cell_type": "code",
   "execution_count": 14,
   "metadata": {},
   "outputs": [],
   "source": [
    "def LF():\n",
    "    rho_hist = [rho0.copy()]\n",
    "    rho = rho0.copy()\n",
    "    for n in range(nt):\n",
    "        F = flux(rho, *args)\n",
    "        rho[1:-1] = 0.5*(rho[2:]+rho[-2:]) - dt/(dx*2.0)*(F[2:]-F[:-2])\n",
    "        rho[0] = bc_values[0]\n",
    "        rho[-1] = bc_values[-1]\n",
    "        rho_hist.append(rho.copy())\n",
    "        return rho_hist"
   ]
  },
  {
   "cell_type": "code",
   "execution_count": 15,
   "metadata": {},
   "outputs": [],
   "source": [
    "def jacobian(rho, u_max, rho_max):\n",
    "    J = u_max*(1-2.0*rho/rho_max)\n",
    "    return J"
   ]
  },
  {
   "cell_type": "code",
   "execution_count": 16,
   "metadata": {},
   "outputs": [],
   "source": [
    "def LW():\n",
    "    rho_hist = [rho0.copy()]\n",
    "    rho = rho0.copy\n",
    "    for n in range(nt):\n",
    "        F = flux(rhjo, *args)\n",
    "        J = jacobian(rho, *args)\n",
    "        "
   ]
  },
  {
   "cell_type": "code",
   "execution_count": 17,
   "metadata": {},
   "outputs": [],
   "source": [
    "def rho_ST(x, rho0_L, rho0_R):\n",
    "    rho = numpy.ones_like(x)\n",
    "    mask_1 = numpy.where(x < 0.0)\n",
    "    mask_2 = numpy.where(0.0 <= x)\n",
    "    rho[mask_1] = rho0_L\n",
    "    rho[mask_2] = rho0_R\n",
    "    return rho"
   ]
  },
  {
   "cell_type": "code",
   "execution_count": 18,
   "metadata": {},
   "outputs": [],
   "source": [
    "def u_ST(x, u0_L, u0_R):\n",
    "    u = numpy.ones_like(x)\n",
    "    mask_1 = numpy.where(x < 0.0)\n",
    "    mask_2 = numpy.where(0.0 <= x)\n",
    "    u[mask_1] = u0_L\n",
    "    u[mask_2] = u0_R\n",
    "    return u"
   ]
  },
  {
   "cell_type": "code",
   "execution_count": 19,
   "metadata": {},
   "outputs": [],
   "source": [
    "def p_ST(x, p0_L, p0_R):\n",
    "    p = numpy.ones_like(x)\n",
    "    mask_1 = numpy.where(x < 0.0)\n",
    "    mask_2 = numpy.where(0.0 <= x)\n",
    "    p[mask_1] = p0_L\n",
    "    p[mask_2] = p0_R\n",
    "    return p"
   ]
  },
  {
   "cell_type": "code",
   "execution_count": 20,
   "metadata": {},
   "outputs": [],
   "source": [
    "nx = 81\n",
    "L = 10.0\n",
    "dx = 0.25\n",
    "dt = 0.0002\n",
    "gamma = 1.4\n",
    "rho0_L = 1.0\n",
    "rho0_R = 0.125\n",
    "u0_L = 0.0\n",
    "u0_R = 0.0\n",
    "p0_L = 100000.0\n",
    "p0_R = 10000.0\n",
    "nt = 50\n",
    "\n",
    "x = numpy.linspace(-L, L, num=nx)\n",
    "\n",
    "rho0 = rho_ST(x, rho0_L, rho0_R)\n",
    "u0 = u_ST(x, u0_L, u0_R)\n",
    "p0 = p_ST(x, p0_L, p0_R)"
   ]
  },
  {
   "cell_type": "code",
   "execution_count": 21,
   "metadata": {},
   "outputs": [],
   "source": [
    "def e_EOS(p, rho, gamma):\n",
    "    e = p / ((gamma - 1) * rho)\n",
    "    return e"
   ]
  },
  {
   "cell_type": "code",
   "execution_count": 22,
   "metadata": {},
   "outputs": [],
   "source": [
    "e0 = e_EOS(p0, rho0, gamma)"
   ]
  },
  {
   "cell_type": "code",
   "execution_count": 23,
   "metadata": {},
   "outputs": [],
   "source": [
    "def u_vec(rho, e, u):\n",
    "    UV = numpy.empty([3, 81])\n",
    "    UV[0, :] = rho\n",
    "    UV[1, :] = u * rho\n",
    "    UV[2, :] = rho * (e + u**2 / 2)\n",
    "    return UV"
   ]
  },
  {
   "cell_type": "code",
   "execution_count": 24,
   "metadata": {},
   "outputs": [],
   "source": [
    "UV0 = u_vec(rho0, e0, u0)"
   ]
  },
  {
   "cell_type": "code",
   "execution_count": 25,
   "metadata": {},
   "outputs": [],
   "source": [
    "def flux(UV, gamma):\n",
    "    f = numpy.empty([3, 81])\n",
    "    f[0] = UV[1]\n",
    "    f[1] = UV[1]**2 / UV[0] + (gamma - 1) * (UV[2] - 0.5 * UV[1]**2 / UV[0])\n",
    "    f[2] = (UV[2] + (gamma - 1) * (UV[2] - 0.5 * UV[1]**2 / UV[0])) * (UV[1] / UV[0])\n",
    "    return f"
   ]
  },
  {
   "cell_type": "code",
   "execution_count": 26,
   "metadata": {},
   "outputs": [],
   "source": [
    "def RM(UV0, nt, gamma, dt, dx, bc_values):\n",
    "    UV = UV0.copy()\n",
    "    UV_new = UV.copy()\n",
    "    for n in range(nt):\n",
    "        f = flux(UV, gamma)\n",
    "        UV_new[:,1:-1] = 0.5 * (UV[:,2:] + UV[:,1:-1]) - (dt / (2*dx)) * (f[:,2:] - f[:,1:-1])\n",
    "        f = flux(UV_new, gamma)\n",
    "        UV[:,1:-1] = UV[:,1:-1] - dt / dx * (f[:,1:-1] - f[:,:-2])\n",
    "        UV[:,0] = bc_values[0]\n",
    "        UV[:,-1] = bc_values[1]\n",
    "    return UV"
   ]
  },
  {
   "cell_type": "code",
   "execution_count": 27,
   "metadata": {},
   "outputs": [],
   "source": [
    "u_new = RM(UV0, nt, gamma, dt, dx, (UV0[:, 0], UV0[:, -1]))\n",
    "vel = u_new[1] / u_new[0]\n",
    "pressure = (gamma - 1) * (u_new[2] - 0.5 * u_new[1]**2 / u_new[0])\n",
    "density = u_new[0]"
   ]
  },
  {
   "cell_type": "code",
   "execution_count": 28,
   "metadata": {},
   "outputs": [
    {
     "data": {
      "image/png": "[encoded data removed]",
      "text/plain": [
       "<Figure size 432x288 with 1 Axes>"
      ]
     },
     "metadata": {},
     "output_type": "display_data"
    }
   ],
   "source": [
    "\n",
    "\n",
    "pyplot.xlabel(r'$x$')\n",
    "pyplot.ylabel(r'$\\ Density$')\n",
    "pyplot.grid()\n",
    "line = pyplot.plot(x, density,\n",
    "                   color='C0', linestyle='-', linewidth=2)[0]\n",
    "pyplot.xlim(-L, L)\n",
    "pyplot.ylim(0.0, 1.05)\n",
    "pyplot.tight_layout()"
   ]
  },
  {
   "cell_type": "code",
   "execution_count": 1,
   "metadata": {},
   "outputs": [],
   "source": [
    "import numpy\n",
    "from matplotlib import pyplot \n",
    "%matplotlib inline"
   ]
  },
  {
   "cell_type": "code",
   "execution_count": 2,
   "metadata": {},
   "outputs": [],
   "source": [
    "pyplot.rcParams['font.family'] = 'serif'\n",
    "pyplot.rcParams['font.size'] = 16"
   ]
  },
  {
   "cell_type": "code",
   "execution_count": 5,
   "metadata": {},
   "outputs": [],
   "source": [
    "L = 1.0\n",
    "nx = 51\n",
    "dx = L / (nx - 1)\n",
    "alpha = 1.22e-3\n",
    "\n",
    "x = numpy.linspace(0.0, L, num=nx)   # define the locations along the rod\n",
    "\n",
    "# initial temp\n",
    "T0 = numpy.zeros(nx)\n",
    "T0[0] = 100.0"
   ]
  },
  {
   "cell_type": "code",
   "execution_count": 9,
   "metadata": {},
   "outputs": [],
   "source": [
    "def ftcs(T0, nt, dt, dx, alpha):\n",
    "    T = T0.copy()\n",
    "    sigma = alpha * dt / dx**2\n",
    "    for n in range(nt):\n",
    "        T[1:-1] = T[1:-1] + sigma * (T[2:] - 2 * T[1:-1] + T[:-2])\n",
    "    return T"
   ]
  },
  {
   "cell_type": "code",
   "execution_count": 10,
   "metadata": {},
   "outputs": [],
   "source": [
    "nt = 100\n",
    "sigma = 0.5\n",
    "dt = sigma * dx**2 / alpha\n",
    "\n",
    "T = ftcs(T0, nt, dt, dx, alpha)"
   ]
  },
  {
   "cell_type": "code",
   "execution_count": 11,
   "metadata": {},
   "outputs": [
    {
     "data": {
      "image/png": "[encoded data removed]",
      "text/plain": [
       "<Figure size 432x288 with 1 Axes>"
      ]
     },
     "metadata": {},
     "output_type": "display_data"
    }
   ],
   "source": [
    "# Plot the temperature along the rod.\n",
    "pyplot.figure(figsize=(6.0, 4.0))\n",
    "pyplot.xlabel('Distance [m]')\n",
    "pyplot.ylabel('Temperature [C]')\n",
    "pyplot.grid()\n",
    "pyplot.plot(x, T, color='C0', linestyle='-', linewidth=2)\n",
    "pyplot.xlim(0.0, L)\n",
    "pyplot.ylim(0.0, 100.0);"
   ]
  },
  {
   "cell_type": "code",
   "execution_count": 12,
   "metadata": {},
   "outputs": [],
   "source": [
    "# Dirichlet b.c\n",
    "nt = 1000\n",
    "T = ftcs(T0, nt, dt, dx, alpha)"
   ]
  },
  {
   "cell_type": "code",
   "execution_count": 13,
   "metadata": {},
   "outputs": [
    {
     "data": {
      "image/png": "[encoded data removed]",
      "text/plain": [
       "<Figure size 432x288 with 1 Axes>"
      ]
     },
     "metadata": {},
     "output_type": "display_data"
    }
   ],
   "source": [
    "pyplot.figure(figsize=(6.0, 4.0))\n",
    "pyplot.xlabel('Distance [m]')\n",
    "pyplot.ylabel('Temperature [C]')\n",
    "pyplot.grid()\n",
    "pyplot.plot(x, T, color='C0', linestyle='-', linewidth=2)\n",
    "pyplot.xlim(0.0, L)\n",
    "pyplot.ylim(0.0, 100.0);"
   ]
  },
  {
   "cell_type": "code",
   "execution_count": 26,
   "metadata": {},
   "outputs": [],
   "source": [
    "def ftcs_mix(T0, nt, dt, dx, alpha):\n",
    "    T = T0.copy()\n",
    "    sigma = alpha * dt  / dx**2\n",
    "    for n in range(nt):\n",
    "        T[1:-1] = T[1:-1] + sigma * (T[2:] - 2.0 * T[1:-1] + T[:-2])\n",
    "        # Neumannc b.c with zero\n",
    "        T[-1] = T[-2]\n",
    "    return T"
   ]
  },
  {
   "cell_type": "code",
   "execution_count": 27,
   "metadata": {},
   "outputs": [],
   "source": [
    "nt = 1000\n",
    "T = ftcs_mix(T0, nt, dt, dx, alpha)"
   ]
  },
  {
   "cell_type": "code",
   "execution_count": 28,
   "metadata": {},
   "outputs": [
    {
     "data": {
      "image/png": "[encoded data removed]",
      "text/plain": [
       "<Figure size 432x288 with 1 Axes>"
      ]
     },
     "metadata": {},
     "output_type": "display_data"
    }
   ],
   "source": [
    "pyplot.figure(figsize=(6.0, 4.0))\n",
    "pyplot.xlabel('Distance [m]')\n",
    "pyplot.ylabel('Temperature [C]')\n",
    "pyplot.grid()\n",
    "pyplot.plot(x, T, color='C0', linestyle='-', linewidth=2)\n",
    "pyplot.xlim(0.0, L)\n",
    "pyplot.ylim(0.0, 100.0);"
   ]
  },
  {
   "cell_type": "code",
   "execution_count": 41,
   "metadata": {},
   "outputs": [],
   "source": [
    "L = 1.0\n",
    "nx = 51\n",
    "dx = L / (nx- 1)\n",
    "alpha = 1.22e-3\n",
    "q = 0.0      # temp. gradient on the right side of the  od\n",
    "\n",
    "x = numpy.linspace(0.0, L, num=nx)\n",
    "\n",
    "T0 = numpy.zeros(nx)\n",
    "T0[0] = 100.0"
   ]
  },
  {
   "cell_type": "code",
   "execution_count": 56,
   "metadata": {},
   "outputs": [],
   "source": [
    "from scipy import linalg"
   ]
  },
  {
   "cell_type": "code",
   "execution_count": 57,
   "metadata": {},
   "outputs": [
    {
     "name": "stdout",
     "output_type": "stream",
     "text": [
      "[[4. 0. 0.]\n",
      " [0. 4. 0.]\n",
      " [0. 0. 4.]]\n",
      "[[4. 0. 0.]\n",
      " [0. 4. 0.]\n",
      " [0. 0. 3.]]\n",
      "[[ 0.  0.  0.]\n",
      " [-1.  0.  0.]\n",
      " [ 0. -1.  0.]]\n"
     ]
    }
   ],
   "source": [
    "D = numpy.diag((2.0 + 1.0 /0.5) * numpy.ones(3))\n",
    "print(D)\n",
    "D[-1, -1] = 3.0\n",
    "print(D)\n",
    "U = numpy.diag( -1.0 * numpy.ones(2), k=-1)\n",
    "print(U)"
   ]
  },
  {
   "cell_type": "code",
   "execution_count": 59,
   "metadata": {},
   "outputs": [],
   "source": [
    "def lhs(N, sigma):\n",
    "    # the diagonal of the operator\n",
    "    D = numpy.diag((2.0 + 1.0 /sigma) * numpy.ones(N))\n",
    "    # the Neumann condiotion for the last element\n",
    "    D[-1, -1] = 1.0 + (1.0 / sigma)\n",
    "    # the upper diagonal\n",
    "    U = numpy.diag( -1.0 * numpy.ones(N -1), k = 1)\n",
    "    # the lower diagonal\n",
    "    L = numpy.diag(-1.0 *  numpy.ones(N-1), k = -1)\n",
    "    # assem\n",
    "    A = D + U + L\n",
    "    return A"
   ]
  },
  {
   "cell_type": "code",
   "execution_count": 60,
   "metadata": {},
   "outputs": [],
   "source": [
    "def rhs(T, sigma, qdx):\n",
    "    b = T[1:-1] / sigma\n",
    "    # Dirichlet\n",
    "    b[0] += T[0]\n",
    "    # Neumann \n",
    "    b[-1] += qdx\n",
    "    return b"
   ]
  },
  {
   "cell_type": "code",
   "execution_count": 61,
   "metadata": {},
   "outputs": [],
   "source": [
    "def btcs_implicit(T0, nt, dt, dx, alpha, q):\n",
    "    sigma = alpha * dt / dx**2\n",
    "    A = lhs(len(T0) -2, sigma)\n",
    "    T = T0.copy()\n",
    "    for n in range(nt):\n",
    "        b = rhs(T, sigma, q*dx)\n",
    "        T[1:-1] = linalg.solve(A, b)\n",
    "        T[-1] = T[-2] + q * dx\n",
    "    return T"
   ]
  },
  {
   "cell_type": "code",
   "execution_count": 62,
   "metadata": {},
   "outputs": [],
   "source": [
    "sigma = 0.5\n",
    "dt = sigma * dx**2 / alpha\n",
    "nt = 1000\n",
    "\n",
    "T = btcs_implicit(T0, nt, dt, dx, alpha, q)"
   ]
  },
  {
   "cell_type": "code",
   "execution_count": 63,
   "metadata": {},
   "outputs": [
    {
     "data": {
      "image/png": "[encoded data removed]",
      "text/plain": [
       "<Figure size 432x288 with 1 Axes>"
      ]
     },
     "metadata": {},
     "output_type": "display_data"
    }
   ],
   "source": [
    "pyplot.figure(figsize=(6.0, 4.0))\n",
    "pyplot.xlabel('Distance [m]')\n",
    "pyplot.ylabel('Temperature [C]')\n",
    "pyplot.grid()\n",
    "pyplot.plot(x, T, color='C0', linestyle='-', linewidth=2)\n",
    "pyplot.xlim(0.0, L)\n",
    "pyplot.ylim(0.0, 100.0);"
   ]
  },
  {
   "cell_type": "code",
   "execution_count": 64,
   "metadata": {},
   "outputs": [
    {
     "data": {
      "image/png": "[encoded data removed]",
      "text/plain": [
       "<Figure size 432x288 with 1 Axes>"
      ]
     },
     "metadata": {},
     "output_type": "display_data"
    }
   ],
   "source": [
    "sigma = 5.0\n",
    "dt = sigma * dx**2 / alpha  # time-step size\n",
    "nt = 100  # number of time steps to compute\n",
    "\n",
    "# Compute the temperature along the rod.\n",
    "T = btcs_implicit(T0, nt, dt, dx, alpha, q)\n",
    "\n",
    "# Plot the temperature along the rod.\n",
    "pyplot.figure(figsize=(6.0, 4.0))\n",
    "pyplot.xlabel('Distance [m]')\n",
    "pyplot.ylabel('Temperature [C]')\n",
    "pyplot.grid()\n",
    "pyplot.plot(x, T, color='C0', linestyle='-', linewidth=2)\n",
    "pyplot.xlim(0.0, L)\n",
    "pyplot.ylim(0.0, 100.0);"
   ]
  },
  {
   "cell_type": "code",
   "execution_count": 66,
   "metadata": {},
   "outputs": [],
   "source": [
    "import numpy\n",
    "from matplotlib import pyplot\n",
    "%matplotlib inline\n"
   ]
  },
  {
   "cell_type": "code",
   "execution_count": 67,
   "metadata": {},
   "outputs": [],
   "source": [
    "pyplot.rcParams['font.family'] = 'serif'\n",
    "pyplot.rcParams['font.size'] = 16"
   ]
  },
  {
   "cell_type": "code",
   "execution_count": 73,
   "metadata": {},
   "outputs": [],
   "source": [
    "def ftcs(T0, nt, dt, dx, dy, alpha):\n",
    "    sigma_x = alpha * dt / dx**2\n",
    "    sigma_y = alpha * dt / dx**2\n",
    "    T = T0.copy()\n",
    "    ny, nx = T.shape\n",
    "    I, J = int(nx/2), int(ny/2)      # indicies of the centers\n",
    "    for n in range(nt):\n",
    "        T[1:-1, 1:-1] = T[1:-1, 1:-1] + (sigma_x * (T[1:-1, 2:] - 2.0 * T[1:-1, 1:-1] + T[1:-1, :-2]) + sigma_y * (T[2:, 1:-1] - 2.0 * T[1:-1, 1:-1] + T[:-2, 1:-1]) )\n",
    "        # Neumann with zero\n",
    "        T[-1, :] = T[-2, :]\n",
    "        T[:, -1] = T[:, -2]\n",
    "        # check if the center of the domian has received T = 70\n",
    "        if T[J, I] >= 70.0:\n",
    "            break\n",
    "        print('[time step {}] Center at T={:.2f} at t={:.2f} s'\n",
    "          .format(n + 1, T[J, I], (n + 1) * dt))   \n",
    "    return T"
   ]
  },
  {
   "cell_type": "code",
   "execution_count": 74,
   "metadata": {},
   "outputs": [],
   "source": [
    "Lx = 0.01\n",
    "Ly = 0.01\n",
    "nx = 21\n",
    "ny = 21\n",
    "dx = Lx / (nx -1)\n",
    "dy = Ly / (ny -1)\n",
    "alpha = 1e-4\n",
    "\n",
    "x = numpy.linspace(0.0, Lx, num=nx)\n",
    "y = numpy.linspace(0.0, Ly, num=ny)\n",
    "\n",
    "Tb = 100.0\n",
    "T0 = 20.0 * numpy.ones((ny, nx))\n",
    "T0[0, :] = Tb\n",
    "T0[:, 0] = Tb"
   ]
  },
  {
   "cell_type": "code",
   "execution_count": 75,
   "metadata": {},
   "outputs": [
    {
     "name": "stdout",
     "output_type": "stream",
     "text": [
      "[time step 1] Center at T=20.00 at t=0.00 s\n",
      "[time step 2] Center at T=20.00 at t=0.00 s\n",
      "[time step 3] Center at T=20.00 at t=0.00 s\n",
      "[time step 4] Center at T=20.00 at t=0.00 s\n",
      "[time step 5] Center at T=20.00 at t=0.00 s\n",
      "[time step 6] Center at T=20.00 at t=0.00 s\n",
      "[time step 7] Center at T=20.00 at t=0.00 s\n",
      "[time step 8] Center at T=20.00 at t=0.00 s\n",
      "[time step 9] Center at T=20.00 at t=0.01 s\n",
      "[time step 10] Center at T=20.00 at t=0.01 s\n",
      "[time step 11] Center at T=20.00 at t=0.01 s\n",
      "[time step 12] Center at T=20.00 at t=0.01 s\n",
      "[time step 13] Center at T=20.01 at t=0.01 s\n",
      "[time step 14] Center at T=20.02 at t=0.01 s\n",
      "[time step 15] Center at T=20.03 at t=0.01 s\n",
      "[time step 16] Center at T=20.05 at t=0.01 s\n",
      "[time step 17] Center at T=20.08 at t=0.01 s\n",
      "[time step 18] Center at T=20.12 at t=0.01 s\n",
      "[time step 19] Center at T=20.17 at t=0.01 s\n",
      "[time step 20] Center at T=20.23 at t=0.01 s\n",
      "[time step 21] Center at T=20.31 at t=0.01 s\n",
      "[time step 22] Center at T=20.39 at t=0.01 s\n",
      "[time step 23] Center at T=20.49 at t=0.01 s\n",
      "[time step 24] Center at T=20.61 at t=0.01 s\n",
      "[time step 25] Center at T=20.74 at t=0.02 s\n",
      "[time step 26] Center at T=20.88 at t=0.02 s\n",
      "[time step 27] Center at T=21.03 at t=0.02 s\n",
      "[time step 28] Center at T=21.20 at t=0.02 s\n",
      "[time step 29] Center at T=21.38 at t=0.02 s\n",
      "[time step 30] Center at T=21.57 at t=0.02 s\n",
      "[time step 31] Center at T=21.78 at t=0.02 s\n",
      "[time step 32] Center at T=21.99 at t=0.02 s\n",
      "[time step 33] Center at T=22.22 at t=0.02 s\n",
      "[time step 34] Center at T=22.46 at t=0.02 s\n",
      "[time step 35] Center at T=22.70 at t=0.02 s\n",
      "[time step 36] Center at T=22.96 at t=0.02 s\n",
      "[time step 37] Center at T=23.22 at t=0.02 s\n",
      "[time step 38] Center at T=23.50 at t=0.02 s\n",
      "[time step 39] Center at T=23.78 at t=0.02 s\n",
      "[time step 40] Center at T=24.06 at t=0.02 s\n",
      "[time step 41] Center at T=24.36 at t=0.03 s\n",
      "[time step 42] Center at T=24.66 at t=0.03 s\n",
      "[time step 43] Center at T=24.96 at t=0.03 s\n",
      "[time step 44] Center at T=25.27 at t=0.03 s\n",
      "[time step 45] Center at T=25.59 at t=0.03 s\n",
      "[time step 46] Center at T=25.90 at t=0.03 s\n",
      "[time step 47] Center at T=26.23 at t=0.03 s\n",
      "[time step 48] Center at T=26.55 at t=0.03 s\n",
      "[time step 49] Center at T=26.88 at t=0.03 s\n",
      "[time step 50] Center at T=27.22 at t=0.03 s\n",
      "[time step 51] Center at T=27.55 at t=0.03 s\n",
      "[time step 52] Center at T=27.89 at t=0.03 s\n",
      "[time step 53] Center at T=28.23 at t=0.03 s\n",
      "[time step 54] Center at T=28.57 at t=0.03 s\n",
      "[time step 55] Center at T=28.91 at t=0.03 s\n",
      "[time step 56] Center at T=29.25 at t=0.03 s\n",
      "[time step 57] Center at T=29.59 at t=0.04 s\n",
      "[time step 58] Center at T=29.94 at t=0.04 s\n",
      "[time step 59] Center at T=30.28 at t=0.04 s\n",
      "[time step 60] Center at T=30.62 at t=0.04 s\n",
      "[time step 61] Center at T=30.97 at t=0.04 s\n",
      "[time step 62] Center at T=31.31 at t=0.04 s\n",
      "[time step 63] Center at T=31.66 at t=0.04 s\n",
      "[time step 64] Center at T=32.00 at t=0.04 s\n",
      "[time step 65] Center at T=32.34 at t=0.04 s\n",
      "[time step 66] Center at T=32.68 at t=0.04 s\n",
      "[time step 67] Center at T=33.02 at t=0.04 s\n",
      "[time step 68] Center at T=33.36 at t=0.04 s\n",
      "[time step 69] Center at T=33.70 at t=0.04 s\n",
      "[time step 70] Center at T=34.04 at t=0.04 s\n",
      "[time step 71] Center at T=34.38 at t=0.04 s\n",
      "[time step 72] Center at T=34.71 at t=0.04 s\n",
      "[time step 73] Center at T=35.04 at t=0.05 s\n",
      "[time step 74] Center at T=35.38 at t=0.05 s\n",
      "[time step 75] Center at T=35.71 at t=0.05 s\n",
      "[time step 76] Center at T=36.03 at t=0.05 s\n",
      "[time step 77] Center at T=36.36 at t=0.05 s\n",
      "[time step 78] Center at T=36.69 at t=0.05 s\n",
      "[time step 79] Center at T=37.01 at t=0.05 s\n",
      "[time step 80] Center at T=37.33 at t=0.05 s\n",
      "[time step 81] Center at T=37.65 at t=0.05 s\n",
      "[time step 82] Center at T=37.97 at t=0.05 s\n",
      "[time step 83] Center at T=38.29 at t=0.05 s\n",
      "[time step 84] Center at T=38.60 at t=0.05 s\n",
      "[time step 85] Center at T=38.91 at t=0.05 s\n",
      "[time step 86] Center at T=39.22 at t=0.05 s\n",
      "[time step 87] Center at T=39.53 at t=0.05 s\n",
      "[time step 88] Center at T=39.84 at t=0.05 s\n",
      "[time step 89] Center at T=40.14 at t=0.06 s\n",
      "[time step 90] Center at T=40.44 at t=0.06 s\n",
      "[time step 91] Center at T=40.74 at t=0.06 s\n",
      "[time step 92] Center at T=41.04 at t=0.06 s\n",
      "[time step 93] Center at T=41.33 at t=0.06 s\n",
      "[time step 94] Center at T=41.63 at t=0.06 s\n",
      "[time step 95] Center at T=41.92 at t=0.06 s\n",
      "[time step 96] Center at T=42.21 at t=0.06 s\n",
      "[time step 97] Center at T=42.50 at t=0.06 s\n",
      "[time step 98] Center at T=42.78 at t=0.06 s\n",
      "[time step 99] Center at T=43.06 at t=0.06 s\n",
      "[time step 100] Center at T=43.34 at t=0.06 s\n",
      "[time step 101] Center at T=43.62 at t=0.06 s\n",
      "[time step 102] Center at T=43.90 at t=0.06 s\n",
      "[time step 103] Center at T=44.18 at t=0.06 s\n",
      "[time step 104] Center at T=44.45 at t=0.06 s\n",
      "[time step 105] Center at T=44.72 at t=0.07 s\n",
      "[time step 106] Center at T=44.99 at t=0.07 s\n",
      "[time step 107] Center at T=45.25 at t=0.07 s\n",
      "[time step 108] Center at T=45.52 at t=0.07 s\n",
      "[time step 109] Center at T=45.78 at t=0.07 s\n",
      "[time step 110] Center at T=46.04 at t=0.07 s\n",
      "[time step 111] Center at T=46.30 at t=0.07 s\n",
      "[time step 112] Center at T=46.56 at t=0.07 s\n",
      "[time step 113] Center at T=46.81 at t=0.07 s\n",
      "[time step 114] Center at T=47.06 at t=0.07 s\n",
      "[time step 115] Center at T=47.31 at t=0.07 s\n",
      "[time step 116] Center at T=47.56 at t=0.07 s\n",
      "[time step 117] Center at T=47.81 at t=0.07 s\n",
      "[time step 118] Center at T=48.06 at t=0.07 s\n",
      "[time step 119] Center at T=48.30 at t=0.07 s\n",
      "[time step 120] Center at T=48.54 at t=0.07 s\n",
      "[time step 121] Center at T=48.78 at t=0.08 s\n",
      "[time step 122] Center at T=49.02 at t=0.08 s\n",
      "[time step 123] Center at T=49.25 at t=0.08 s\n",
      "[time step 124] Center at T=49.49 at t=0.08 s\n",
      "[time step 125] Center at T=49.72 at t=0.08 s\n",
      "[time step 126] Center at T=49.95 at t=0.08 s\n",
      "[time step 127] Center at T=50.18 at t=0.08 s\n",
      "[time step 128] Center at T=50.41 at t=0.08 s\n",
      "[time step 129] Center at T=50.63 at t=0.08 s\n",
      "[time step 130] Center at T=50.86 at t=0.08 s\n",
      "[time step 131] Center at T=51.08 at t=0.08 s\n",
      "[time step 132] Center at T=51.30 at t=0.08 s\n",
      "[time step 133] Center at T=51.52 at t=0.08 s\n",
      "[time step 134] Center at T=51.73 at t=0.08 s\n",
      "[time step 135] Center at T=51.95 at t=0.08 s\n",
      "[time step 136] Center at T=52.16 at t=0.08 s\n",
      "[time step 137] Center at T=52.38 at t=0.09 s\n",
      "[time step 138] Center at T=52.59 at t=0.09 s\n",
      "[time step 139] Center at T=52.80 at t=0.09 s\n",
      "[time step 140] Center at T=53.00 at t=0.09 s\n",
      "[time step 141] Center at T=53.21 at t=0.09 s\n",
      "[time step 142] Center at T=53.42 at t=0.09 s\n",
      "[time step 143] Center at T=53.62 at t=0.09 s\n",
      "[time step 144] Center at T=53.82 at t=0.09 s\n",
      "[time step 145] Center at T=54.02 at t=0.09 s\n",
      "[time step 146] Center at T=54.22 at t=0.09 s\n",
      "[time step 147] Center at T=54.42 at t=0.09 s\n",
      "[time step 148] Center at T=54.61 at t=0.09 s\n",
      "[time step 149] Center at T=54.81 at t=0.09 s\n",
      "[time step 150] Center at T=55.00 at t=0.09 s\n",
      "[time step 151] Center at T=55.19 at t=0.09 s\n",
      "[time step 152] Center at T=55.38 at t=0.09 s\n",
      "[time step 153] Center at T=55.57 at t=0.10 s\n",
      "[time step 154] Center at T=55.76 at t=0.10 s\n",
      "[time step 155] Center at T=55.95 at t=0.10 s\n",
      "[time step 156] Center at T=56.13 at t=0.10 s\n",
      "[time step 157] Center at T=56.32 at t=0.10 s\n",
      "[time step 158] Center at T=56.50 at t=0.10 s\n",
      "[time step 159] Center at T=56.68 at t=0.10 s\n",
      "[time step 160] Center at T=56.86 at t=0.10 s\n",
      "[time step 161] Center at T=57.04 at t=0.10 s\n",
      "[time step 162] Center at T=57.22 at t=0.10 s\n",
      "[time step 163] Center at T=57.40 at t=0.10 s\n",
      "[time step 164] Center at T=57.57 at t=0.10 s\n",
      "[time step 165] Center at T=57.75 at t=0.10 s\n",
      "[time step 166] Center at T=57.92 at t=0.10 s\n",
      "[time step 167] Center at T=58.09 at t=0.10 s\n",
      "[time step 168] Center at T=58.26 at t=0.10 s\n",
      "[time step 169] Center at T=58.44 at t=0.11 s\n",
      "[time step 170] Center at T=58.60 at t=0.11 s\n",
      "[time step 171] Center at T=58.77 at t=0.11 s\n",
      "[time step 172] Center at T=58.94 at t=0.11 s\n",
      "[time step 173] Center at T=59.10 at t=0.11 s\n",
      "[time step 174] Center at T=59.27 at t=0.11 s\n",
      "[time step 175] Center at T=59.43 at t=0.11 s\n",
      "[time step 176] Center at T=59.59 at t=0.11 s\n",
      "[time step 177] Center at T=59.76 at t=0.11 s\n",
      "[time step 178] Center at T=59.92 at t=0.11 s\n",
      "[time step 179] Center at T=60.08 at t=0.11 s\n",
      "[time step 180] Center at T=60.23 at t=0.11 s\n",
      "[time step 181] Center at T=60.39 at t=0.11 s\n",
      "[time step 182] Center at T=60.55 at t=0.11 s\n",
      "[time step 183] Center at T=60.70 at t=0.11 s\n",
      "[time step 184] Center at T=60.86 at t=0.11 s\n",
      "[time step 185] Center at T=61.01 at t=0.12 s\n",
      "[time step 186] Center at T=61.17 at t=0.12 s\n",
      "[time step 187] Center at T=61.32 at t=0.12 s\n",
      "[time step 188] Center at T=61.47 at t=0.12 s\n",
      "[time step 189] Center at T=61.62 at t=0.12 s\n",
      "[time step 190] Center at T=61.77 at t=0.12 s\n",
      "[time step 191] Center at T=61.92 at t=0.12 s\n",
      "[time step 192] Center at T=62.06 at t=0.12 s\n",
      "[time step 193] Center at T=62.21 at t=0.12 s\n",
      "[time step 194] Center at T=62.36 at t=0.12 s\n",
      "[time step 195] Center at T=62.50 at t=0.12 s\n",
      "[time step 196] Center at T=62.64 at t=0.12 s\n",
      "[time step 197] Center at T=62.79 at t=0.12 s\n",
      "[time step 198] Center at T=62.93 at t=0.12 s\n",
      "[time step 199] Center at T=63.07 at t=0.12 s\n",
      "[time step 200] Center at T=63.21 at t=0.12 s\n",
      "[time step 201] Center at T=63.35 at t=0.13 s\n",
      "[time step 202] Center at T=63.49 at t=0.13 s\n",
      "[time step 203] Center at T=63.63 at t=0.13 s\n",
      "[time step 204] Center at T=63.77 at t=0.13 s\n",
      "[time step 205] Center at T=63.90 at t=0.13 s\n",
      "[time step 206] Center at T=64.04 at t=0.13 s\n",
      "[time step 207] Center at T=64.18 at t=0.13 s\n",
      "[time step 208] Center at T=64.31 at t=0.13 s\n",
      "[time step 209] Center at T=64.44 at t=0.13 s\n",
      "[time step 210] Center at T=64.58 at t=0.13 s\n",
      "[time step 211] Center at T=64.71 at t=0.13 s\n",
      "[time step 212] Center at T=64.84 at t=0.13 s\n",
      "[time step 213] Center at T=64.97 at t=0.13 s\n",
      "[time step 214] Center at T=65.10 at t=0.13 s\n",
      "[time step 215] Center at T=65.23 at t=0.13 s\n",
      "[time step 216] Center at T=65.36 at t=0.13 s\n",
      "[time step 217] Center at T=65.49 at t=0.14 s\n",
      "[time step 218] Center at T=65.62 at t=0.14 s\n",
      "[time step 219] Center at T=65.74 at t=0.14 s\n",
      "[time step 220] Center at T=65.87 at t=0.14 s\n",
      "[time step 221] Center at T=66.00 at t=0.14 s\n",
      "[time step 222] Center at T=66.12 at t=0.14 s\n",
      "[time step 223] Center at T=66.25 at t=0.14 s\n",
      "[time step 224] Center at T=66.37 at t=0.14 s\n",
      "[time step 225] Center at T=66.49 at t=0.14 s\n",
      "[time step 226] Center at T=66.61 at t=0.14 s\n",
      "[time step 227] Center at T=66.74 at t=0.14 s\n",
      "[time step 228] Center at T=66.86 at t=0.14 s\n",
      "[time step 229] Center at T=66.98 at t=0.14 s\n",
      "[time step 230] Center at T=67.10 at t=0.14 s\n",
      "[time step 231] Center at T=67.22 at t=0.14 s\n",
      "[time step 232] Center at T=67.34 at t=0.14 s\n",
      "[time step 233] Center at T=67.45 at t=0.15 s\n",
      "[time step 234] Center at T=67.57 at t=0.15 s\n",
      "[time step 235] Center at T=67.69 at t=0.15 s\n",
      "[time step 236] Center at T=67.81 at t=0.15 s\n",
      "[time step 237] Center at T=67.92 at t=0.15 s\n",
      "[time step 238] Center at T=68.04 at t=0.15 s\n",
      "[time step 239] Center at T=68.15 at t=0.15 s\n",
      "[time step 240] Center at T=68.27 at t=0.15 s\n",
      "[time step 241] Center at T=68.38 at t=0.15 s\n",
      "[time step 242] Center at T=68.49 at t=0.15 s\n",
      "[time step 243] Center at T=68.60 at t=0.15 s\n",
      "[time step 244] Center at T=68.72 at t=0.15 s\n",
      "[time step 245] Center at T=68.83 at t=0.15 s\n",
      "[time step 246] Center at T=68.94 at t=0.15 s\n",
      "[time step 247] Center at T=69.05 at t=0.15 s\n",
      "[time step 248] Center at T=69.16 at t=0.15 s\n",
      "[time step 249] Center at T=69.27 at t=0.16 s\n",
      "[time step 250] Center at T=69.38 at t=0.16 s\n",
      "[time step 251] Center at T=69.49 at t=0.16 s\n",
      "[time step 252] Center at T=69.59 at t=0.16 s\n",
      "[time step 253] Center at T=69.70 at t=0.16 s\n",
      "[time step 254] Center at T=69.81 at t=0.16 s\n",
      "[time step 255] Center at T=69.92 at t=0.16 s\n"
     ]
    }
   ],
   "source": [
    "sigma = 0.25\n",
    "dt = sigma * min(dx, dy)**2 / alpha\n",
    "nt = 500\n",
    "\n",
    "T = ftcs(T0, nt, dt, dx, dy, alpha)"
   ]
  },
  {
   "cell_type": "code",
   "execution_count": 76,
   "metadata": {},
   "outputs": [
    {
     "data": {
      "image/png": "[encoded data removed]",
      "text/plain": [
       "<Figure size 576x360 with 2 Axes>"
      ]
     },
     "metadata": {},
     "output_type": "display_data"
    }
   ],
   "source": [
    "pyplot.figure(figsize=(8.0, 5.0))\n",
    "pyplot.xlabel('x [m]')\n",
    "pyplot.ylabel('y [m]')\n",
    "levels = numpy.linspace(20.0, 100.0, num=51)\n",
    "contf = pyplot.contourf(x, y, T, levels=levels)\n",
    "cbar = pyplot.colorbar(contf)\n",
    "cbar.set_label('Temperature [C]')\n",
    "pyplot.axis('scaled', adjustable='box');"
   ]
  },
  {
   "cell_type": "code",
   "execution_count": 1,
   "metadata": {},
   "outputs": [],
   "source": [
    "import numpy\n",
    "from scipy import linalg"
   ]
  },
  {
   "cell_type": "code",
   "execution_count": 3,
   "metadata": {},
   "outputs": [],
   "source": [
    "def btcs(T0, nt, dt, delta, alpha, Tb):\n",
    "    ny, nx = T0.shape\n",
    "    M, N = nx - 2, ny -2\n",
    "    sigma = alpha * dt / delta**2\n",
    "    A = lhs(M, N, sigma)\n",
    "    T = T0[1:-1, 1:-1].flatten()\n",
    "    I, J = int(M/2), int(N/2)\n",
    "    for n in range(nt):\n",
    "        b = rhs(T, M, N, sigma, Tb)\n",
    "        T = linalg.solve(A, b)\n",
    "        if T[J * M + I] >= 70.0:\n",
    "            break\n",
    "    print('Time step {}; temperature at center is {} C'.format(n, T[J * M + I]))\n",
    "    return   map_1d_to_2d(T, nx, ny, Tb)"
   ]
  },
  {
   "cell_type": "code",
   "execution_count": 4,
   "metadata": {},
   "outputs": [],
   "source": [
    "def   map_1d_to_2d(T, nx, ny, Tb):\n",
    "    T = numpy.zeros((ny, nx))\n",
    "    T[1:-1, 1:-1] = T1.reshape((ny -2, nx -2))\n",
    "    T[:, 0] = Tb\n",
    "    T[0, :] = Tb\n",
    "    T[:, -1] = T[:, -2]\n",
    "    T[-1, :] = T[-2, :]\n",
    "    return T"
   ]
  },
  {
   "cell_type": "code",
   "execution_count": null,
   "metadata": {},
   "outputs": [],
   "source": [
    "def lhs():\n",
    "    A = numpy.zeros((M*N, M*N))\n",
    "    for j in range(N):\n",
    "        for i in ranghe(M):\n",
    "            I = j * M + i # row index\n",
    "            \n",
    "     "
   ]
  }
 ],
 "metadata": {
  "kernelspec": {
   "display_name": "Python 3",
   "language": "python",
   "name": "python3"
  },
  "language_info": {
   "codemirror_mode": {
    "name": "ipython",
    "version": 3
   },
   "file_extension": ".py",
   "mimetype": "text/x-python",
   "name": "python",
   "nbconvert_exporter": "python",
   "pygments_lexer": "ipython3",
   "version": "3.6.2"
  }
 },
 "nbformat": 4,
 "nbformat_minor": 2
}
